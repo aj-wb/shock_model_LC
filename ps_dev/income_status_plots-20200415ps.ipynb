{
 "cells": [
  {
   "cell_type": "code",
   "execution_count": 1,
   "metadata": {
    "collapsed": false,
    "jupyter": {
     "outputs_hidden": false
    }
   },
   "outputs": [],
   "source": [
    "import numpy as np\n",
    "import pandas as pd \n",
    "import matplotlib as mpl\n",
    "import matplotlib.pyplot as plt\n",
    "import seaborn as sns\n",
    "import math\n",
    "import glob,os\n",
    "import sys\n",
    "import scipy\n",
    "from importlib import  reload\n",
    "from time import process_time \n",
    "#from libraries.lib_gather_data import get_hhid_FIES\n",
    "\n",
    "%load_ext autoreload"
   ]
  },
  {
   "cell_type": "code",
   "execution_count": 2,
   "metadata": {
    "collapsed": false,
    "jupyter": {
     "outputs_hidden": false
    }
   },
   "outputs": [],
   "source": [
    "from shock_libraries import *\n",
    "from plotting_libraries import *\n",
    "from response_libraries import get_response_sp\n",
    "#from income_shock_libraries_ps import rand_weighted_shock_1\n",
    "#\n",
    "from libraries.lib_country_dir import set_directories, load_survey_data, get_places_dict\n",
    "from libraries.lib_get_hh_savings import get_hh_savings\n",
    "from libraries.pandas_helper import broadcast_simple"
   ]
  },
  {
   "cell_type": "code",
   "execution_count": 3,
   "metadata": {},
   "outputs": [],
   "source": [
    "# formatting & aesthetics\n",
    "font = {'family':'sans serif', 'size':10}\n",
    "plt.rc('font', **font)\n",
    "mpl.rcParams['xtick.labelsize'] = 10\n",
    "mpl.rcParams['ytick.labelsize'] = 10\n",
    "mpl.rcParams['legend.facecolor'] = 'white'\n",
    "sns.set_style(\"white\")\n",
    "\n",
    "sns_pal = sns.color_palette('Set1', n_colors=8, desat=.4)\n",
    "greys_pal = sns.color_palette('Greys', n_colors=9)"
   ]
  },
  {
   "cell_type": "code",
   "execution_count": 4,
   "metadata": {},
   "outputs": [
    {
     "data": {
      "text/plain": [
       "'/Users/psaylor/Dropbox/covid_phl'"
      ]
     },
     "execution_count": 4,
     "metadata": {},
     "output_type": "execute_result"
    }
   ],
   "source": [
    "pwd"
   ]
  },
  {
   "cell_type": "code",
   "execution_count": 5,
   "metadata": {
    "collapsed": false,
    "jupyter": {
     "outputs_hidden": false
    },
    "scrolled": true
   },
   "outputs": [
    {
     "name": "stdout",
     "output_type": "stream",
     "text": [
      "Using per cap income as c\n"
     ]
    },
    {
     "name": "stderr",
     "output_type": "stream",
     "text": [
      "/opt/anaconda3/envs/geospatial/lib/python3.6/site-packages/pandas/core/generic.py:6746: SettingWithCopyWarning: \n",
      "A value is trying to be set on a copy of a slice from a DataFrame\n",
      "\n",
      "See the caveats in the documentation: https://pandas.pydata.org/pandas-docs/stable/user_guide/indexing.html#returning-a-view-versus-a-copy\n",
      "  self._update_inplace(new_data)\n"
     ]
    },
    {
     "name": "stdout",
     "output_type": "stream",
     "text": [
      "Finding quintiles\n",
      "Finding deciles\n",
      "getting FIES/LFS id for FIES\n",
      "NB: loading cat_info from resilience model, instead of FIES in covid directory\n"
     ]
    },
    {
     "name": "stderr",
     "output_type": "stream",
     "text": [
      "/opt/anaconda3/envs/geospatial/lib/python3.6/site-packages/IPython/core/interactiveshell.py:3331: DtypeWarning: Columns (15) have mixed types.Specify dtype option on import or set low_memory=False.\n",
      "  exec(code_obj, self.user_global_ns, self.user_ns)\n"
     ]
    },
    {
     "name": "stdout",
     "output_type": "stream",
     "text": [
      "getting FIES/LFS id for LFS\n"
     ]
    },
    {
     "name": "stderr",
     "output_type": "stream",
     "text": [
      "/opt/anaconda3/envs/geospatial/lib/python3.6/site-packages/pandas/core/frame.py:4153: SettingWithCopyWarning: \n",
      "A value is trying to be set on a copy of a slice from a DataFrame\n",
      "\n",
      "See the caveats in the documentation: https://pandas.pydata.org/pandas-docs/stable/user_guide/indexing.html#returning-a-view-versus-a-copy\n",
      "  downcast=downcast,\n"
     ]
    },
    {
     "name": "stdout",
     "output_type": "stream",
     "text": [
      "NB: have only 93.6% of LFS population \n",
      "\n"
     ]
    }
   ],
   "source": [
    "%autoreload\n",
    "myC = 'PH'\n",
    "df = load_hh_survey(myC)\n",
    "\n",
    "#df = bifurcate_households(df)"
   ]
  },
  {
   "cell_type": "code",
   "execution_count": null,
   "metadata": {
    "collapsed": false,
    "jupyter": {
     "outputs_hidden": false
    }
   },
   "outputs": [],
   "source": []
  },
  {
   "cell_type": "code",
   "execution_count": 6,
   "metadata": {
    "collapsed": false,
    "jupyter": {
     "outputs_hidden": false
    }
   },
   "outputs": [
    {
     "name": "stderr",
     "output_type": "stream",
     "text": [
      "/Users/psaylor/Dropbox/covid_phl/response_libraries.py:259: RuntimeWarning: divide by zero encountered in double_scalars\n",
      "  /hh_df.loc[hh_df.eval(bin_slice)].eval('popwgt*cct4P').sum()))\n"
     ]
    },
    {
     "name": "stdout",
     "output_type": "stream",
     "text": [
      "\n",
      "38.69% affected\n",
      "29.97% of poorest quintile affected\n",
      "36.47% of poorest half affected\n"
     ]
    }
   ],
   "source": [
    "%autoreload\n",
    "# iterator & results vector\n",
    "nsim = 0; \n",
    "hh_df = None\n",
    "series = None\n",
    "\n",
    "# number of simulations\n",
    "tot_sim = 5\n",
    "\n",
    "# Start the stopwatch / counter  \n",
    "t_start = process_time() \n",
    "\n",
    "# this is the loop that simulates income shock tot_sim times:\n",
    "while nsim < tot_sim:\n",
    "    \n",
    "    # step 1 - simulate income shock at individual level\n",
    "    df = adjust_income_and_weight(df)\n",
    "    # ^ all flows are annual here\n",
    "    \n",
    "    # step 2 - sum impacts to household (propagate to non-workers, dependents)\n",
    "    hh_df = sum_to_households(df,hh_df)\n",
    "    # IMPORTANT: all flows converted to MONTHLY (PPP$2011) here\n",
    "\n",
    "    # step 3 - load social protection response\n",
    "    hh_df = get_response_sp(hh_df,nsim)\n",
    "    \n",
    "    # step 4 - poverty headcount\n",
    "    sim_stats = calculate_summary_stats(hh_df,t_sav=np.random.randint(1,11))\n",
    "    \n",
    "    # step 5 - record poverty time series\n",
    "    series = append_simulation(sim_stats,series,nsim,tot_sim)\n",
    "    \n",
    "    # step 6 - plot hh-level info (do this once, for now...)\n",
    "    if nsim == 0: plot_income_distribution(hh_df)\n",
    "        \n",
    "    # To do: optimize for time...this is too slow!\n",
    "    nsim+=1\n",
    "    if nsim%10==0:\n",
    "        print('{} - runtime = {} per 10 sims'.format(nsim,round(process_time()-t_start,1)))\n",
    "        t_start = process_time()\n",
    "    \n",
    "# store results\n",
    "write_results(series)\n",
    "\n",
    "# express herself\n",
    "verbose=True\n",
    "if verbose: \n",
    "    \n",
    "    # test income losses\n",
    "    pct_aff = round(1E2*hh_df.loc[hh_df.wage_loss > 0,'popwgt'].sum()/hh_df['popwgt'].sum(),2)\n",
    "    print('\\n{}% affected'.format(pct_aff))\n",
    "\n",
    "    pct_aff_q1 = round(1E2*hh_df.loc[(hh_df.wage_loss > 0)&(hh_df.quintile==1),'popwgt'].sum()/hh_df.loc[hh_df.quintile==1,'popwgt'].sum(),2)\n",
    "    print('{}% of poorest quintile affected'.format(pct_aff_q1))\n",
    "\n",
    "    pct_aff_bottom50 = round(1E2*hh_df.loc[(hh_df.wage_loss > 0)&(hh_df.decile<=5),'popwgt'].sum()/hh_df.loc[hh_df.decile<=5,'popwgt'].sum(),2)\n",
    "    print('{}% of poorest half affected'.format(pct_aff_bottom50))"
   ]
  },
  {
   "cell_type": "code",
   "execution_count": null,
   "metadata": {
    "collapsed": true,
    "jupyter": {
     "outputs_hidden": true
    }
   },
   "outputs": [],
   "source": []
  },
  {
   "cell_type": "code",
   "execution_count": 7,
   "metadata": {
    "collapsed": false,
    "jupyter": {
     "outputs_hidden": false
    }
   },
   "outputs": [],
   "source": [
    "%autoreload\n",
    "# pass results files, but be a dick about it\n",
    "# can start running with this block\n",
    "\n",
    "try:\n",
    "    assert(False)\n",
    "    sub,pov,vul,sec,mc = series\n",
    "except: \n",
    "    series = load_series()\n",
    "    sub,pov,vul,sec,mc = series\n",
    "    "
   ]
  },
  {
   "cell_type": "code",
   "execution_count": 8,
   "metadata": {
    "collapsed": false,
    "jupyter": {
     "outputs_hidden": false
    }
   },
   "outputs": [],
   "source": [
    "%autoreload\n",
    "plot_poverty_time_series(series,stacked=True)\n",
    "plot_poverty_time_series(series,stacked=False)"
   ]
  },
  {
   "cell_type": "code",
   "execution_count": null,
   "metadata": {
    "collapsed": true,
    "jupyter": {
     "outputs_hidden": true
    }
   },
   "outputs": [],
   "source": []
  },
  {
   "cell_type": "code",
   "execution_count": null,
   "metadata": {
    "collapsed": true,
    "jupyter": {
     "outputs_hidden": true
    }
   },
   "outputs": [],
   "source": []
  }
 ],
 "metadata": {
  "anaconda-cloud": {},
  "kernelspec": {
   "display_name": "Python 3",
   "language": "python",
   "name": "python3"
  },
  "language_info": {
   "codemirror_mode": {
    "name": "ipython",
    "version": 3
   },
   "file_extension": ".py",
   "mimetype": "text/x-python",
   "name": "python",
   "nbconvert_exporter": "python",
   "pygments_lexer": "ipython3",
   "version": "3.6.7"
  }
 },
 "nbformat": 4,
 "nbformat_minor": 4
}
