{
 "cells": [
  {
   "cell_type": "code",
   "execution_count": 1,
   "metadata": {
    "collapsed": false,
    "jupyter": {
     "outputs_hidden": false
    }
   },
   "outputs": [],
   "source": [
    "import numpy as np\n",
    "import pandas as pd \n",
    "import matplotlib as mpl\n",
    "import matplotlib.pyplot as plt\n",
    "import seaborn as sns\n",
    "import math\n",
    "import glob,os\n",
    "import sys\n",
    "import scipy\n",
    "from importlib import  reload\n",
    "from time import process_time \n",
    "#from libraries.lib_gather_data import get_hhid_FIES\n",
    "%load_ext autoreload"
   ]
  },
  {
   "cell_type": "code",
   "execution_count": 2,
   "metadata": {
    "collapsed": false,
    "jupyter": {
     "outputs_hidden": false
    }
   },
   "outputs": [],
   "source": [
    "from main_function_library import run_model\n",
    "from survey_libraries import *\n",
    "from shock_libraries import *\n",
    "from mc_storage_libraries import *\n",
    "from plotting_libraries import plot_shock, plot_income_distributions, plot_poverty_time_series, plot_regional_poverty, build_shock\n",
    "from response_libraries import plot_ESP_impact,load_social_amelioration_program\n",
    "from demographic_libraries import summarize_demographics\n",
    "from predictive_libraries import  df_to_linear_fit\n",
    "from shock_comparison_libraries import relaxation_plots\n",
    "from maps_libraries import make_choropleths\n",
    "from macro_cost_libraries import plot_income_profile, plot_sectoral_income\n",
    "from error_libraries import library_open\n",
    "\n",
    "from libraries.lib_country_dir import set_directories, load_survey_data, get_places_dict\n",
    "from libraries.lib_get_hh_savings import get_hh_savings\n",
    "from libraries.pandas_helper import broadcast_simple"
   ]
  },
  {
   "cell_type": "code",
   "execution_count": 3,
   "metadata": {
    "collapsed": true,
    "jupyter": {
     "outputs_hidden": true
    }
   },
   "outputs": [],
   "source": [
    "# formatting & aesthetics\n",
    "font = {'family':'sans serif', 'size':10}\n",
    "plt.rc('font', **font)\n",
    "mpl.rcParams['xtick.labelsize'] = 10\n",
    "mpl.rcParams['ytick.labelsize'] = 10\n",
    "mpl.rcParams['legend.facecolor'] = 'white'\n",
    "sns.set_style(\"white\")\n",
    "plt.grid(False)\n",
    "\n",
    "sns_pal = sns.color_palette('Set1', n_colors=9, desat=.4)\n",
    "greys_pal = sns.color_palette('Greys', n_colors=9)"
   ]
  },
  {
   "cell_type": "code",
   "execution_count": 4,
   "metadata": {
    "collapsed": false,
    "jupyter": {
     "outputs_hidden": false
    },
    "scrolled": false
   },
   "outputs": [
    {
     "name": "stdout",
     "output_type": "stream",
     "text": [
      "\n",
      "Total value: 22.65  bil. $PPP(2011)/month\n",
      "-- non-ag wages: 10.59 bil. $PPP/month\n",
      "-- ag wages: 0.71 bil. $PPP/month\n",
      "\n",
      "Finding quintiles\n",
      "Finding deciles\n",
      "getting FIES/LFS id for FIES\n",
      "NB: loading cat_info from resilience model, instead of FIES in covid directory\n"
     ]
    },
    {
     "name": "stderr",
     "output_type": "stream",
     "text": [
      "/Users/brian/Software/anaconda3/lib/python3.5/site-packages/IPython/core/interactiveshell.py:2881: DtypeWarning: Columns (15) have mixed types. Specify dtype option on import or set low_memory=False.\n",
      "  exec(code_obj, self.user_global_ns, self.user_ns)\n"
     ]
    },
    {
     "name": "stdout",
     "output_type": "stream",
     "text": [
      "getting FIES/LFS id for LFS\n",
      "NB: merged df has 99.0% of LFS pop, 100.0% of FIES pop\n",
      "\n"
     ]
    }
   ],
   "source": [
    "%autoreload\n",
    "myC = 'PH'\n",
    "df = load_hh_survey(myC,troubleshoot_merge=False)\n",
    "#df = bifurcate_households(df)"
   ]
  },
  {
   "cell_type": "code",
   "execution_count": null,
   "metadata": {
    "collapsed": false,
    "jupyter": {
     "outputs_hidden": false
    },
    "scrolled": true
   },
   "outputs": [],
   "source": [
    "%autoreload\n",
    "# Run model to get a sample sim\n",
    "hh_df = run_model(df,scode='test',Nsims=1,write_out=True,verbose=True,\n",
    "                  wage_disruption_smear=0.0,wage_sector_value_smear=0.0,\n",
    "                  entrep_disruption_smear=0.0,\n",
    "                  sectoral_smear=0.0,\n",
    "                  savings_flow_to_stock_factor=1.0)"
   ]
  },
  {
   "cell_type": "code",
   "execution_count": null,
   "metadata": {
    "collapsed": false,
    "jupyter": {
     "outputs_hidden": false
    },
    "scrolled": true
   },
   "outputs": [],
   "source": [
    "%autoreload\n",
    "\n",
    "summarize_demographics(hh_df)\n",
    "#\n",
    "plot_income_profile(hh_df)\n",
    "plot_income_distributions(hh_df)\n",
    "#\n",
    "plot_poverty_time_series(shock_code='base',stacked=True)\n",
    "plot_poverty_time_series(shock_code='base',stacked=False)\n",
    "#"
   ]
  },
  {
   "cell_type": "code",
   "execution_count": 7,
   "metadata": {
    "collapsed": false
   },
   "outputs": [],
   "source": [
    "%autoreload\n",
    "build_shock()\n",
    "plot_shock('base')"
   ]
  },
  {
   "cell_type": "code",
   "execution_count": null,
   "metadata": {
    "collapsed": false
   },
   "outputs": [],
   "source": []
  },
  {
   "cell_type": "code",
   "execution_count": 8,
   "metadata": {
    "collapsed": false
   },
   "outputs": [],
   "source": [
    "%autoreload\n",
    "plot_sectoral_income()\n",
    "plot_sectoral_income(plot_losses=True)"
   ]
  },
  {
   "cell_type": "code",
   "execution_count": null,
   "metadata": {
    "collapsed": true
   },
   "outputs": [],
   "source": []
  },
  {
   "cell_type": "code",
   "execution_count": 9,
   "metadata": {
    "collapsed": false,
    "scrolled": true
   },
   "outputs": [],
   "source": [
    "%autoreload\n",
    "# social protection plots\n",
    "plot_ESP_impact(monte_carlo(0,'base'))\n",
    "plot_regional_poverty('base')"
   ]
  },
  {
   "cell_type": "code",
   "execution_count": null,
   "metadata": {
    "collapsed": true
   },
   "outputs": [],
   "source": []
  },
  {
   "cell_type": "code",
   "execution_count": 10,
   "metadata": {
    "collapsed": false,
    "jupyter": {
     "outputs_hidden": false
    }
   },
   "outputs": [
    {
     "name": "stdout",
     "output_type": "stream",
     "text": [
      "\n",
      "Generating map of  Affected population [mil.]\n",
      "(total = 86.0$\\endash$88.7 mil.)\n"
     ]
    },
    {
     "data": {
      "text/html": [
       "<a target='_blank' href='maps/map_of_affected_pop.svg'>SVG </a>"
      ],
      "text/plain": [
       "<IPython.core.display.HTML object>"
      ]
     },
     "metadata": {},
     "output_type": "display_data"
    },
    {
     "name": "stdout",
     "output_type": "stream",
     "text": [
      "Missing in series: Nan\n",
      "\n",
      "Generating map of  Fraction of population affected [%]\n",
      "overall 85$\\endash$87%\n"
     ]
    },
    {
     "data": {
      "text/html": [
       "<a target='_blank' href='maps/map_of_affected_frac.svg'>SVG </a>"
      ],
      "text/plain": [
       "<IPython.core.display.HTML object>"
      ]
     },
     "metadata": {},
     "output_type": "display_data"
    },
    {
     "name": "stdout",
     "output_type": "stream",
     "text": [
      "Missing in SVG: Xx Forcedmin; Xx Forcedmax\n",
      "Missing in series: Nan\n",
      "\n",
      "Generating map of  Newly-impoverished population [mil.]\n",
      "i$\\leq$PPP\\$3.20/day (total = 23.4$\\endash$26.8 mil)\n"
     ]
    },
    {
     "data": {
      "text/html": [
       "<a target='_blank' href='maps/map_of_impoverished.svg'>SVG </a>"
      ],
      "text/plain": [
       "<IPython.core.display.HTML object>"
      ]
     },
     "metadata": {},
     "output_type": "display_data"
    },
    {
     "name": "stdout",
     "output_type": "stream",
     "text": [
      "Missing in series: Nan\n",
      "\n",
      "Generating map of  Fraction of regional population impoverished\n",
      "23$\\endash$26% pushed into poverty nationally\n"
     ]
    },
    {
     "data": {
      "text/html": [
       "<a target='_blank' href='maps/map_of_impoverished_frac_population.svg'>SVG </a>"
      ],
      "text/plain": [
       "<IPython.core.display.HTML object>"
      ]
     },
     "metadata": {},
     "output_type": "display_data"
    },
    {
     "name": "stdout",
     "output_type": "stream",
     "text": [
      "Missing in SVG: Xx Forcedmin; Xx Forcedmax\n",
      "Missing in series: Nan\n",
      "\n",
      "Generating map of  Poverty increase as % of pre-COVID incidence\n",
      "85$\\endash$98% national increase\n"
     ]
    },
    {
     "data": {
      "text/html": [
       "<a target='_blank' href='maps/map_of_impoverished_frac_poverty.svg'>SVG </a>"
      ],
      "text/plain": [
       "<IPython.core.display.HTML object>"
      ]
     },
     "metadata": {},
     "output_type": "display_data"
    },
    {
     "name": "stdout",
     "output_type": "stream",
     "text": [
      "Missing in SVG: Xx Forcedmin; Xx Forcedmax\n",
      "Missing in series: Nan\n"
     ]
    }
   ],
   "source": [
    "%autoreload\n",
    "# maps of \n",
    "# - affected population\n",
    "# - impoverishment\n",
    "make_choropleths(hh_df)"
   ]
  },
  {
   "cell_type": "code",
   "execution_count": 11,
   "metadata": {
    "collapsed": false,
    "jupyter": {
     "outputs_hidden": false
    }
   },
   "outputs": [],
   "source": [
    "%autoreload\n",
    "# plot poverty & financial impacts of relaxing shutdown by sector\n",
    "relaxation_plots('base',rfrac='50')"
   ]
  },
  {
   "cell_type": "markdown",
   "metadata": {},
   "source": []
  },
  {
   "cell_type": "code",
   "execution_count": 12,
   "metadata": {
    "collapsed": false,
    "jupyter": {
     "outputs_hidden": true
    }
   },
   "outputs": [
    {
     "name": "stdout",
     "output_type": "stream",
     "text": [
      "total_loss_wages\n",
      "total_loss_wages\n",
      "frac_loss_wages\n",
      "frac_loss_wages\n",
      "pop_aff\n"
     ]
    }
   ],
   "source": [
    "%autoreload\n",
    "library_open()"
   ]
  },
  {
   "cell_type": "code",
   "execution_count": null,
   "metadata": {
    "collapsed": true
   },
   "outputs": [],
   "source": []
  }
 ],
 "metadata": {
  "anaconda-cloud": {},
  "kernelspec": {
   "display_name": "Python [default]",
   "language": "python",
   "name": "python3"
  },
  "language_info": {
   "codemirror_mode": {
    "name": "ipython",
    "version": 3
   },
   "file_extension": ".py",
   "mimetype": "text/x-python",
   "name": "python",
   "nbconvert_exporter": "python",
   "pygments_lexer": "ipython3",
   "version": "3.5.2"
  }
 },
 "nbformat": 4,
 "nbformat_minor": 4
}
