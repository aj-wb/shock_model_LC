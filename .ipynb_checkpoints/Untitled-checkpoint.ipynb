{
 "cells": [
  {
   "cell_type": "code",
   "execution_count": null,
   "metadata": {},
   "outputs": [],
   "source": [
    "## create the shock table\n",
    "def get_phi_shock_sectors(flavor='nonag_wage'):\n",
    "    \"\"\"\n",
    "    20200427: loads shock tables\n",
    "    20200501: Condensed version of --> get_phi_shock():\n",
    "        - isolates the desired options of sectoral non-ag wage and entrepreneural tables, each with their desired sub-categories.\n",
    "    input: flavor\n",
    "        options:\n",
    "         \n",
    "            'nonag_wage' -- sectoral nonag wage shock table\n",
    "            'entre' -- sector entrepreneurial shock table\n",
    "           \n",
    "\n",
    "    \n",
    "    \n",
    "    \"\"\"\n",
    "    \n",
    "    \n",
    "    if flavor == 'nonag_wage':\n",
    "        # sectoral nonag wage shock table\n",
    "        df = pd.read_csv('./temp/phi_shocks/sect_nonag_wage_0427.csv').set_index('sector')\n",
    "        df = df.rename(columns={'mean': 'fa', 'std_dev':'di'}) \n",
    "        df['di'] = 1\n",
    "        shock_table = df\n",
    "        \n",
    "    if flavor == 'entre':\n",
    "        # sector entrepreneurial shock table\n",
    "        df = pd.read_csv('./temp/phi_shocks/phi_entre.csv').set_index('sector')\n",
    "        df = df.rename(columns={'mean': 'fa', 'std_dev':'di'}) \n",
    "        df['di'] = 1\n",
    "        shock_table = df\n",
    "    \n",
    "        \n",
    "        #print(flavor)\n",
    "   \n",
    "    \n",
    "    return(shock_table)\n",
    "\n",
    "\n",
    "\n",
    "\n",
    "#######"
   ]
  }
 ],
 "metadata": {
  "kernelspec": {
   "display_name": "Python 3",
   "language": "python",
   "name": "python3"
  },
  "language_info": {
   "codemirror_mode": {
    "name": "ipython",
    "version": 3
   },
   "file_extension": ".py",
   "mimetype": "text/x-python",
   "name": "python",
   "nbconvert_exporter": "python",
   "pygments_lexer": "ipython3",
   "version": "3.6.7"
  }
 },
 "nbformat": 4,
 "nbformat_minor": 4
}
